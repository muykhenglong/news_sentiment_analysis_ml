{
 "cells": [
  {
   "cell_type": "code",
   "execution_count": 6,
   "id": "84c360d5-36db-4129-8ae2-1f4ac0b70372",
   "metadata": {
    "tags": []
   },
   "outputs": [
    {
     "name": "stdout",
     "output_type": "stream",
     "text": [
      "Accuracy: 0.4286\n",
      "              precision    recall  f1-score   support\n",
      "\n",
      "         Neg       0.00      0.00      0.00         6\n",
      "     Neutral       0.20      0.33      0.25         3\n",
      "         Pos       0.56      1.00      0.71         5\n",
      "\n",
      "    accuracy                           0.43        14\n",
      "   macro avg       0.25      0.44      0.32        14\n",
      "weighted avg       0.24      0.43      0.31        14\n",
      "\n",
      "Confusion Matrix:\n",
      "[[0 4 2]\n",
      " [0 1 2]\n",
      " [0 0 5]]\n",
      "Cross-validation accuracy scores: [0.25       0.45454545 0.18181818 0.18181818 0.36363636]\n",
      "Mean cross-validation accuracy: 0.2864\n"
     ]
    },
    {
     "name": "stderr",
     "output_type": "stream",
     "text": [
      "/Users/s.o/anaconda3/lib/python3.11/site-packages/sklearn/metrics/_classification.py:1509: UndefinedMetricWarning: Precision is ill-defined and being set to 0.0 in labels with no predicted samples. Use `zero_division` parameter to control this behavior.\n",
      "  _warn_prf(average, modifier, f\"{metric.capitalize()} is\", len(result))\n",
      "/Users/s.o/anaconda3/lib/python3.11/site-packages/sklearn/metrics/_classification.py:1509: UndefinedMetricWarning: Precision is ill-defined and being set to 0.0 in labels with no predicted samples. Use `zero_division` parameter to control this behavior.\n",
      "  _warn_prf(average, modifier, f\"{metric.capitalize()} is\", len(result))\n",
      "/Users/s.o/anaconda3/lib/python3.11/site-packages/sklearn/metrics/_classification.py:1509: UndefinedMetricWarning: Precision is ill-defined and being set to 0.0 in labels with no predicted samples. Use `zero_division` parameter to control this behavior.\n",
      "  _warn_prf(average, modifier, f\"{metric.capitalize()} is\", len(result))\n"
     ]
    },
    {
     "data": {
      "text/plain": [
       "'\\nNote: \\nThe model requires further work to improve accuracy including \\n- maticulously extracting and labeling the dataset\\n- preprocessing data (apply stemming or lemmatization)\\n- feature engineering (balance class) and hyperparameter tuning \\n- model expiriment\\n'"
      ]
     },
     "execution_count": 6,
     "metadata": {},
     "output_type": "execute_result"
    }
   ],
   "source": [
    "#!/usr/bin/env python3\n",
    "# -*- coding: utf-8 -*-\n",
    "\"\"\"\n",
    "Created on Mon Jun 24 15:59:26 2024\n",
    "\n",
    "@author: s.o\n",
    "\"\"\"\n",
    "\n",
    "import pandas as pd\n",
    "from sklearn.feature_extraction.text import CountVectorizer, TfidfTransformer\n",
    "from sklearn.naive_bayes import GaussianNB\n",
    "from sklearn.model_selection import train_test_split, cross_val_score\n",
    "from sklearn.metrics import accuracy_score, classification_report, confusion_matrix\n",
    "\n",
    "# Import dataset\n",
    "data = pd.read_csv('Raw Data/news_df.csv')\n",
    "data.drop(['Unnamed: 0', 'Date'], axis=1, inplace=True)\n",
    "\n",
    "# Extract features and labels\n",
    "X = data.iloc[:, 1]\n",
    "y = data.iloc[:, -1]\n",
    "\n",
    "# Split data into training and testing sets\n",
    "X_train, X_test, y_train, y_test = train_test_split(X, y, test_size=0.20, random_state=42)\n",
    "\n",
    "# Tokenize the news text and convert data to matrix format\n",
    "vectorizer = CountVectorizer(stop_words='english')\n",
    "X_train_vec = vectorizer.fit_transform(X_train)\n",
    "\n",
    "# Transform data by applying term frequency inverse document frequency (TF-IDF)\n",
    "tfidf = TfidfTransformer()\n",
    "X_train_tfidf = tfidf.fit_transform(X_train_vec).toarray()\n",
    "\n",
    "# Train the NB classifier\n",
    "clf = GaussianNB().fit(X_train_tfidf, y_train)\n",
    "\n",
    "# Process test dataset\n",
    "# Tokenize the news text and convert data to matrix format\n",
    "X_test_vec = vectorizer.transform(X_test)\n",
    "\n",
    "# Transform data by applying term frequency inverse document frequency (TF-IDF)\n",
    "X_test_tfidf = tfidf.transform(X_test_vec).toarray()\n",
    "\n",
    "# Predict the sentiment values\n",
    "y_pred = clf.predict(X_test_tfidf)\n",
    "\n",
    "# Evaluate the classifier\n",
    "accuracy = accuracy_score(y_test, y_pred)\n",
    "print(f'Accuracy: {accuracy:.4f}')\n",
    "\n",
    "# Print detailed classification report\n",
    "print(classification_report(y_test, y_pred))\n",
    "\n",
    "# Confusion Matrix\n",
    "conf_matrix = confusion_matrix(y_test, y_pred)\n",
    "print(f'Confusion Matrix:\\n{conf_matrix}')\n",
    "\n",
    "# Cross-validation\n",
    "cv_scores = cross_val_score(clf, X_train_tfidf, y_train, cv=5, scoring='accuracy')\n",
    "print(f\"Cross-validation accuracy scores: {cv_scores}\")\n",
    "print(f\"Mean cross-validation accuracy: {cv_scores.mean():.4f}\")\n",
    "\n",
    "\n",
    "\"\"\"\n",
    "Note: \n",
    "The model requires further work to improve accuracy including \n",
    "- maticulously extracting and labeling the dataset\n",
    "- preprocessing data (apply stemming or lemmatization)\n",
    "- feature engineering (balance class) and hyperparameter tuning \n",
    "- model expiriment\n",
    "\"\"\"\n",
    "\n"
   ]
  }
 ],
 "metadata": {
  "kernelspec": {
   "display_name": "Python 3 (ipykernel)",
   "language": "python",
   "name": "python3"
  },
  "language_info": {
   "codemirror_mode": {
    "name": "ipython",
    "version": 3
   },
   "file_extension": ".py",
   "mimetype": "text/x-python",
   "name": "python",
   "nbconvert_exporter": "python",
   "pygments_lexer": "ipython3",
   "version": "3.11.9"
  }
 },
 "nbformat": 4,
 "nbformat_minor": 5
}
